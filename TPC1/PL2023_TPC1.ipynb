{
  "nbformat": 4,
  "nbformat_minor": 0,
  "metadata": {
    "colab": {
      "provenance": [],
      "include_colab_link": true
    },
    "kernelspec": {
      "name": "python3",
      "display_name": "Python 3"
    },
    "language_info": {
      "name": "python"
    }
  },
  "cells": [
    {
      "cell_type": "markdown",
      "metadata": {
        "id": "view-in-github",
        "colab_type": "text"
      },
      "source": [
        "<a href=\"https://colab.research.google.com/github/AN-DRE4/PL2023/blob/main/TPC1/PL2023_TPC1.ipynb\" target=\"_parent\"><img src=\"https://colab.research.google.com/assets/colab-badge.svg\" alt=\"Open In Colab\"/></a>"
      ]
    },
    {
      "cell_type": "markdown",
      "source": [
        "#Enunciados dos Trabalhos para Casa (TPC)\n",
        "da UC de **Processamento de Linguagens**,\n",
        "ano Letivo 2022/23 , 3º ano de LEI\n",
        "\n",
        "Relativos à 1º parte do programa: Filtros de Texto baseados em ER\n",
        "**texto em negrito**"
      ],
      "metadata": {
        "id": "E3nUK-2PqERR"
      }
    },
    {
      "cell_type": "markdown",
      "source": [
        "# TPC1: Análise de dados: doença cardíaca\n",
        "(publicado em **2023.02.14**)\n",
        "\n",
        "Descarregue o ficheiro de dados: `myheart.csv`\n",
        "Crie um programa em Python, conjunto de funções, que responda às seguintes questões:\n",
        "* Crie uma função que lê a informação do ficheiro para um modelo, previamente pensado em memória;\n",
        "* Pense num modelo para guardar uma distribuição;\n",
        "* Crie uma função que calcula a distribuição da doença por sexo;\n",
        "* Crie uma função que calcula a distribuição da doença por escalões etários. Considere os seguintes escalões: [30-34], [35-39], [40-44], ...\n",
        "* Crie uma função que calcula a distribuição da doença por níveis de colesterol. Considere um nível igual a um intervalo de 10 unidades, comece no limite inferior e crie os níveis necessários até abranger o limite superior;\n",
        "* Crie uma função que imprime na forma de uma tabela uma distribuição;\n",
        "* Especifique um programa que ao executar apresenta as tabelas correspondentes às distribuições pedidas;\n",
        "* Extra: explore o módulo matplotlib e crie gráficos para as suas distribuições."
      ],
      "metadata": {
        "id": "0JpXqXdRLYK6"
      }
    },
    {
      "cell_type": "markdown",
      "source": [
        "Exercício 1 - Função que lê a informação do ficheiro para um modelo"
      ],
      "metadata": {
        "id": "uoQyTaMaYED7"
      }
    },
    {
      "cell_type": "code",
      "source": [
        "def read_data_file(filename):\n",
        "    # Define a list to store the data\n",
        "    data = []\n",
        "\n",
        "    # Open the CSV file and read the rows\n",
        "    with open(filename, 'r') as file:\n",
        "        reader = csv.reader(file, delimiter=',')\n",
        "\n",
        "        # Skip the header row\n",
        "        next(reader)\n",
        "\n",
        "        # Iterate over the remaining rows and create a dictionary for each row\n",
        "        for row in reader:\n",
        "            data.append({\n",
        "                'idade': int(row[0]),\n",
        "                'sexo': row[1],\n",
        "                'tensao': int(row[2]),\n",
        "                'colesterol': int(row[3]),\n",
        "                'batimento': int(row[4]),\n",
        "                'temDoenca': int(row[5])\n",
        "            })\n",
        "\n",
        "    # Return the list of dictionaries\n",
        "    return data"
      ],
      "metadata": {
        "id": "lqMvvHIjYIyw"
      },
      "execution_count": null,
      "outputs": []
    },
    {
      "cell_type": "markdown",
      "source": [
        "Exercício 2 - Função que calcula a distribuição da doença por sexo  "
      ],
      "metadata": {
        "id": "1qaOhz6oYRCE"
      }
    },
    {
      "cell_type": "code",
      "source": [
        "def disease_distribution_by_gender(data):\n",
        "    # Define dictionaries to store the count of disease by gender\n",
        "    disease_by_gender = {'M': 0, 'F': 0}\n",
        "    count_by_gender = {'M': 0, 'F': 0}\n",
        "\n",
        "    # Iterate over the data and update the counts\n",
        "    for row in data:\n",
        "        gender = row['sexo']\n",
        "        temDoenca = row['temDoenca']\n",
        "\n",
        "        if gender in ['M', 'F']:\n",
        "            count_by_gender[gender] += 1\n",
        "\n",
        "            if temDoenca:\n",
        "                disease_by_gender[gender] += 1\n",
        "\n",
        "    # Calculate the percentage of disease by gender\n",
        "    distribution = {\n",
        "        'M': disease_by_gender['M'] / count_by_gender['M'] * 100,\n",
        "        'F': disease_by_gender['F'] / count_by_gender['F'] * 100\n",
        "    }\n",
        "\n",
        "    # Return the distribution dictionary\n",
        "    return distribution"
      ],
      "metadata": {
        "id": "4qqvOc6ZYUUa"
      },
      "execution_count": null,
      "outputs": []
    },
    {
      "cell_type": "markdown",
      "source": [
        "Exercício 3 - Função que calcula a distribuição da doença por escalões etários"
      ],
      "metadata": {
        "id": "m8pFAfoGYaca"
      }
    },
    {
      "cell_type": "code",
      "source": [
        "def get_oldest_age(data):\n",
        "    oldest_age = 0\n",
        "    for row in data:\n",
        "        idade = row['idade']\n",
        "        if idade > oldest_age:\n",
        "            oldest_age = idade\n",
        "\n",
        "    return oldest_age\n",
        "\n",
        "\n",
        "def disease_distribution_by_age_group(data):\n",
        "    # Get the oldest age in the data\n",
        "    oldest_age = get_oldest_age(data)\n",
        "\n",
        "    # Define a dictionary to store the counts for each age group\n",
        "    count_by_age_group = {f'{i}-{i + 4}': 0 for i in range(0, oldest_age + 1, 5)}\n",
        "\n",
        "    # Define a dictionary to store the count of disease for each age group\n",
        "    disease_by_age_group = {f'{i}-{i + 4}': 0 for i in range(0, oldest_age + 1, 5)}\n",
        "\n",
        "    # Iterate over the data and update the counts for each age group\n",
        "    for row in data:\n",
        "        idade = row['idade']\n",
        "        temDoenca = row['temDoenca']\n",
        "\n",
        "        # Determine the age group for the current row\n",
        "        age_group = f'{(idade // 5) * 5}-{((idade // 5) * 5) + 4}'\n",
        "\n",
        "        count_by_age_group[age_group] += 1\n",
        "\n",
        "        if temDoenca:\n",
        "            disease_by_age_group[age_group] += 1\n",
        "\n",
        "    # Calculate the percentage of disease for each age group\n",
        "    distribution = {}\n",
        "    for age_group in count_by_age_group:\n",
        "        if count_by_age_group[age_group] > 0:\n",
        "            distribution[age_group] = (\n",
        "                    disease_by_age_group[age_group] / count_by_age_group[age_group] * 100\n",
        "            )\n",
        "\n",
        "    # Return the distribution dictionary\n",
        "    return distribution"
      ],
      "metadata": {
        "id": "nEKcwDqKYdGn"
      },
      "execution_count": null,
      "outputs": []
    },
    {
      "cell_type": "markdown",
      "source": [
        "Exercício 4 - Função que calcula a distribuição da doença por níveis de colesterol"
      ],
      "metadata": {
        "id": "1EjxthsDYm1P"
      }
    },
    {
      "cell_type": "code",
      "source": [
        "def find_highest_cholesterol(data):\n",
        "    highest_cholesterol = 0\n",
        "\n",
        "    for row in data:\n",
        "        if row['colesterol'] > highest_cholesterol:\n",
        "            highest_cholesterol = row['colesterol']\n",
        "\n",
        "    return highest_cholesterol\n",
        "\n",
        "\n",
        "def disease_distribution_by_colesterol(data):\n",
        "    # Get the highest cholesterol in the data\n",
        "    highest_cholesterol = find_highest_cholesterol(data)\n",
        "\n",
        "    # Define a dictionary to store the counts for each cholesterol group\n",
        "    count_by_cholesterol_group = {f'{i}-{i + 9}': 0 for i in range(0, highest_cholesterol + 1, 10)}\n",
        "\n",
        "    # Define a dictionary to store the count of disease for each cholesterol group\n",
        "    disease_by_cholesterol_group = {f'{i}-{i + 9}': 0 for i in range(0, highest_cholesterol + 1, 10)}\n",
        "\n",
        "    # Iterate over the data and update the counts for each cholesterol group\n",
        "    for row in data:\n",
        "        colesterol = row['colesterol']\n",
        "        temDoenca = row['temDoenca']\n",
        "\n",
        "        # Determine the cholesterol group for the current row\n",
        "        cholesterol_group = f'{(colesterol // 10) * 10}-{((colesterol // 10) * 10) + 9}'\n",
        "\n",
        "        count_by_cholesterol_group[cholesterol_group] += 1\n",
        "\n",
        "        if temDoenca:\n",
        "            disease_by_cholesterol_group[cholesterol_group] += 1\n",
        "\n",
        "    # Calculate the percentage of disease for each colesterol group\n",
        "    distribution = {}\n",
        "    for cholesterol_group in count_by_cholesterol_group:\n",
        "        if count_by_cholesterol_group[cholesterol_group] > 0:\n",
        "            distribution[cholesterol_group] = (\n",
        "                    disease_by_cholesterol_group[cholesterol_group] / count_by_cholesterol_group[\n",
        "                cholesterol_group] * 100\n",
        "            )\n",
        "\n",
        "    # Return the distribution dictionary\n",
        "    return distribution"
      ],
      "metadata": {
        "id": "Uu_PmqPTYpoV"
      },
      "execution_count": null,
      "outputs": []
    },
    {
      "cell_type": "markdown",
      "source": [
        "Exercício 5 - Função que imprime na forma de uma tabela uma distribuição"
      ],
      "metadata": {
        "id": "yvF4FJ6wnOm_"
      }
    },
    {
      "cell_type": "code",
      "source": [
        "def distribution_to_table(distribution: dict):\n",
        "    print(\"----|----------\")\n",
        "    for k in distribution.keys():\n",
        "        print(f\"{str(k)} | {str(distribution[k])}\")"
      ],
      "metadata": {
        "id": "BXctDY94nRaA"
      },
      "execution_count": null,
      "outputs": []
    }
  ]
}