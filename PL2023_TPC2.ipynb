{
  "nbformat": 4,
  "nbformat_minor": 0,
  "metadata": {
    "colab": {
      "provenance": [],
      "include_colab_link": true
    },
    "kernelspec": {
      "name": "python3",
      "display_name": "Python 3"
    },
    "language_info": {
      "name": "python"
    }
  },
  "cells": [
    {
      "cell_type": "markdown",
      "metadata": {
        "id": "view-in-github",
        "colab_type": "text"
      },
      "source": [
        "<a href=\"https://colab.research.google.com/github/AN-DRE4/PL2023/blob/main/PL2023_TPC2.ipynb\" target=\"_parent\"><img src=\"https://colab.research.google.com/assets/colab-badge.svg\" alt=\"Open In Colab\"/></a>"
      ]
    },
    {
      "cell_type": "markdown",
      "source": [
        "#Enunciados dos Trabalhos para Casa (TPC)\n",
        "da UC de **Processamento de Linguagens**,\n",
        "ano Letivo 2022/23 , 3º ano de LEI\n",
        "\n",
        "Relativos à 1º parte do programa: Filtros de Texto baseados em ER\n",
        "**texto em negrito**"
      ],
      "metadata": {
        "id": "E3nUK-2PqERR"
      }
    },
    {
      "cell_type": "markdown",
      "source": [
        "# TPC2: Somador on/off\n",
        "\n",
        "(publicado em **2023.02.21**)\n",
        "\n",
        "Crie um programa em Python que tenha o seguinte comportamento:\n",
        "\n",
        "  * Pretende-se um programa que some todas as sequências de dígitos que encontre num texto;\n",
        "  * Prepare o programa para ler o texto do canal de entrada: stdin;\n",
        "  * Sempre que encontrar a string “Off” em qualquer combinação de maiúsculas e minúsculas, esse comportamento é desligado;\n",
        "  * Sempre que encontrar a string “On” em qualquer combinação de maiúsculas e minúsculas, esse comportamento é novamente ligado;\n",
        "  * Sempre que encontrar o caráter “=”, o resultado da soma é colocado na saída.\n"
      ],
      "metadata": {
        "id": "BiWweXOrShgJ"
      }
    },
    {
      "cell_type": "markdown",
      "source": [
        "Exercício 1 - Crie um programa que some todas as sequências de dígitos que encontre num texto;"
      ],
      "metadata": {
        "id": "B1MeWI4cr4Om"
      }
    },
    {
      "cell_type": "code",
      "source": [
        "def sum_numbers_in_string(input_string):\n",
        "    # Use regular expressions to find all sequences of numbers in the input string\n",
        "    numbers = re.findall(r'\\d+', input_string)\n",
        "\n",
        "    # Convert each string of numbers to an integer and sum them up\n",
        "    total_sum = sum(int(num) for num in numbers)\n",
        "\n",
        "    return total_sum"
      ],
      "metadata": {
        "id": "o0Go87XPr34n"
      },
      "execution_count": null,
      "outputs": []
    },
    {
      "cell_type": "markdown",
      "source": [
        "Exercício 2 - Prepare o programa para ler o texto do canal de entrada: stdin"
      ],
      "metadata": {
        "id": "hh9H4WXFsdbd"
      }
    },
    {
      "cell_type": "code",
      "source": [
        "def stdin_sum_digits():\n",
        "  return sum_numbers_in_string(input(\"write some text\"))"
      ],
      "metadata": {
        "id": "xbfX2aS_stuK"
      },
      "execution_count": null,
      "outputs": []
    },
    {
      "cell_type": "markdown",
      "source": [
        "Exercício 3 - Sempre que encontrar a string “Off” em qualquer combinação de maiúsculas e minúsculas, esse comportamento é desligado;"
      ],
      "metadata": {
        "id": "7Cqq3cDxszCg"
      }
    },
    {
      "cell_type": "code",
      "source": [
        "def sum_until_off(input_string):\n",
        "    # Search for the index of the first occurrence of \"Off\" in the input string\n",
        "    off_index = input_string.find(\"Off\")\n",
        "\n",
        "    # If \"Off\" sequence was found, only consider the string before it\n",
        "    if off_index != -1:\n",
        "        input_string = input_string[:off_index]\n",
        "\n",
        "    # Use the original sum_numbers_in_string() function to sum all numbers in the remaining input string\n",
        "    total_sum = sum_numbers_in_string(input_string)\n",
        "\n",
        "    return total_sum"
      ],
      "metadata": {
        "id": "vwFG7TbKs-7F"
      },
      "execution_count": null,
      "outputs": []
    },
    {
      "cell_type": "markdown",
      "source": [
        "Exercício 4 - Sempre que encontrar a string “On” em qualquer combinação de maiúsculas e minúsculas, esse comportamento é novamente ligado;"
      ],
      "metadata": {
        "id": "x5YiuWr7wGVR"
      }
    },
    {
      "cell_type": "code",
      "source": [
        "def sum_until_off_remade(input_string):\n",
        "    # Search for the index of the first occurrence of \"Off\" in the input string\n",
        "    off_index = input_string.find(\"Off\")\n",
        "    rest = None\n",
        "\n",
        "    # If \"Off\" sequence was found, only consider the string before it\n",
        "    if off_index != -1:\n",
        "        rest = input_string[off_index + 3:] # We need to keep the rest for if there is a \"On\" trigger\n",
        "        input_string = input_string[:off_index]\n",
        "\n",
        "    # Use the original sum_numbers_in_string() function to sum all numbers in the remaining input string\n",
        "    total_sum = sum_numbers_in_string(input_string) + sum_after_on(rest)\n",
        "\n",
        "    return total_sum\n",
        "\n",
        "\n",
        "def sum_after_on(input_string):\n",
        "    if input_string is None:\n",
        "        return 0\n",
        "    # Search for the index of the first occurrence of \"On\" in the input string\n",
        "    on_index = input_string.find(\"On\")\n",
        "\n",
        "    # If \"On\" sequence was found, only consider the string after it\n",
        "    total_sum = 0\n",
        "    if on_index != -1:\n",
        "        input_string = input_string[on_index + 2:]\n",
        "        total_sum = sum_until_off_remade(input_string)\n",
        "\n",
        "    return total_sum"
      ],
      "metadata": {
        "id": "7DZO5MGb1npz"
      },
      "execution_count": null,
      "outputs": []
    },
    {
      "cell_type": "markdown",
      "source": [
        "Exercício 5 - Sempre que encontrar o caráter “=”, o resultado da soma é colocado na saída."
      ],
      "metadata": {
        "id": "AAtUNuMl40vE"
      }
    },
    {
      "cell_type": "code",
      "source": [
        "def sum_until_equals(input_str):\n",
        "    if input_str is None:\n",
        "        return 0\n",
        "    equals_index = input_str.find(\"=\")\n",
        "    rest = None\n",
        "    if equals_index != -1:\n",
        "        sum_to_print = input_str[:equals_index]\n",
        "        rest = input_str[equals_index + 1:]\n",
        "        print(sum_numbers_in_string(sum_to_print))\n",
        "\n",
        "    return sum_until_equals(rest)"
      ],
      "metadata": {
        "id": "mUWPGS99445u"
      },
      "execution_count": null,
      "outputs": []
    }
  ]
}